{
 "cells": [
  {
   "cell_type": "markdown",
   "metadata": {
    "collapsed": true
   },
   "source": [
    "# ITCS 3162 - Assignment 0\n",
    "\n",
    "Introduction to Python Programming\n",
    "\n",
    "### Name: Harsh Patel\n",
    "\n",
    "### Submission instructions\n",
    "\n",
    "- Enter your name in the space above.  \n",
    "- Save your completed json as *itcs3162_assignment_0_**\\<uncc username>**.ipynb*.\n",
    "- Upload **both** the **ipynb** file and the **html** file version of your completed notebook to Canvas.  \n",
    "\n",
    "You can download the notebook in html format by going to *File --> Download as --> HTML*"
   ]
  },
  {
   "cell_type": "markdown",
   "metadata": {},
   "source": [
    "## Problem 1:\n",
    "\n",
    "Prompt the user to input an integer and store it in a variable. Ensure that the user input is a valid integer. If it is not, use a loop to re-prompt the user for input until a valid number is entered."
   ]
  },
  {
   "cell_type": "code",
   "execution_count": null,
   "metadata": {},
   "outputs": [],
   "source": [
    "while True:\n",
    "    try:\n",
    "        user_in = int(input('Input an integer: '))\n",
    "        break\n",
    "    except:\n",
    "        print('Incorrect input! Please enter an integer.')"
   ]
  },
  {
   "cell_type": "markdown",
   "metadata": {},
   "source": [
    "### - Print the type of stored user input\n",
    "- Print the square of the input number\n",
    "- Print the remainder when the input number is divided by 7"
   ]
  },
  {
   "cell_type": "code",
   "execution_count": null,
   "metadata": {},
   "outputs": [],
   "source": [
    "print('User entered type: ' + str(type(user_in)))"
   ]
  },
  {
   "cell_type": "code",
   "execution_count": null,
   "metadata": {},
   "outputs": [],
   "source": [
    "print(str(user_in ** 2))"
   ]
  },
  {
   "cell_type": "code",
   "execution_count": null,
   "metadata": {},
   "outputs": [],
   "source": [
    "print(str(user_in % 7))"
   ]
  },
  {
   "cell_type": "markdown",
   "metadata": {},
   "source": [
    "## Problem 2:\n",
    "\n",
    "Define a function that will return a list of the first *n* numbers in the Fibonacci sequence."
   ]
  },
  {
   "cell_type": "code",
   "execution_count": null,
   "metadata": {},
   "outputs": [],
   "source": [
    "def fib_seq(n):\n",
    "    fib_list = []\n",
    "    \n",
    "    for x in range(n):\n",
    "        if x == 0:\n",
    "            fib_list.append(0)\n",
    "        elif x == 1:\n",
    "            fib_list.append(1)\n",
    "        else:\n",
    "            fib_list.append(fib_list[x - 1] + fib_list[x - 2])\n",
    "            \n",
    "    return fib_list"
   ]
  },
  {
   "cell_type": "markdown",
   "metadata": {},
   "source": [
    "- Print the first **10** numbers in the Fibonacci sequence as a string of comma-separated values\n",
    "- Print the total sum of the first 10 Fibonnaci numbers\n",
    "- Print your list of Fibonnaci numbers in reverse sorted order (greatest --> smallest)"
   ]
  },
  {
   "cell_type": "code",
   "execution_count": null,
   "metadata": {},
   "outputs": [],
   "source": [
    "print(str(fib_seq(10)))"
   ]
  },
  {
   "cell_type": "code",
   "execution_count": null,
   "metadata": {},
   "outputs": [],
   "source": [
    "sum = 0\n",
    "\n",
    "for x in fib_seq(10):\n",
    "    sum = sum + x\n",
    "\n",
    "print(sum)"
   ]
  },
  {
   "cell_type": "code",
   "execution_count": null,
   "metadata": {},
   "outputs": [],
   "source": [
    "rev_list = fib_seq(10)\n",
    "rev_list.sort(reverse = True)\n",
    "print(str(rev_list))"
   ]
  },
  {
   "cell_type": "markdown",
   "metadata": {},
   "source": [
    "## Problem 3:\n",
    "\n",
    "This problem will use the provided *states.json* file that you can download from Canvas. Ensure that the data file is in the same directory as your jupyter notebook.\n",
    "\n",
    "In the Markdown cell below, describe the structure of the json file in your own words. Think in terms of the data structures and data types used by Python."
   ]
  },
  {
   "cell_type": "markdown",
   "metadata": {},
   "source": [
    "states.json file is a dictionary python data structure that stores key values as the states of the United States with their value being a dictionary which further contains keys and values to state's region and year the state joined US."
   ]
  },
  {
   "cell_type": "markdown",
   "metadata": {},
   "source": [
    "Read in the *states.json* file using Python's built-in json library"
   ]
  },
  {
   "cell_type": "code",
   "execution_count": 2,
   "metadata": {},
   "outputs": [],
   "source": [
    "import json \n",
    "\n",
    "with open('states.json') as j:\n",
    "    data_states = json.load(j)\n"
   ]
  },
  {
   "cell_type": "markdown",
   "metadata": {},
   "source": [
    "- Print the length of your dictionary\n",
    "- Extract the list of all state names, and print the state names in alphabetical order"
   ]
  },
  {
   "cell_type": "code",
   "execution_count": 3,
   "metadata": {},
   "outputs": [
    {
     "name": "stdout",
     "output_type": "stream",
     "text": [
      "Length: 50\n",
      "\n",
      "['alabama', 'alaska', 'arizona', 'arkansas', 'california', 'colorado', 'connecticut', 'delaware', 'florida', 'georgia', 'hawaii', 'idaho', 'illinois', 'indiana', 'iowa', 'kansas', 'kentucky', 'louisiana', 'maine', 'maryland', 'massachusetts', 'michigan', 'minnesota', 'mississippi', 'missouri', 'montana', 'nebraska', 'nevada', 'new hampshire', 'new jersey', 'new mexico', 'new york', 'north carolina', 'north dakota', 'ohio', 'oklahoma', 'oregon', 'pennsylvania', 'rhode island', 'south carolina', 'south dakota', 'tennessee', 'texas', 'utah', 'vermont', 'virginia', 'washington', 'west virginia', 'wisconsin', 'wyoming']\n"
     ]
    }
   ],
   "source": [
    "print('Length: ' + str(len(data_states)) + '\\n')\n",
    "\n",
    "states = list(data_states.keys())\n",
    "states.sort()\n",
    "print(states)"
   ]
  },
  {
   "cell_type": "markdown",
   "metadata": {},
   "source": [
    "Split the state names into separate lists by which U.S. Census region the state belongs to. Print the resulting regional state lists  \n",
    "**Note**: This should require only a single for loop to create all of the lists"
   ]
  },
  {
   "cell_type": "code",
   "execution_count": 4,
   "metadata": {},
   "outputs": [],
   "source": [
    "pacific = []\n",
    "west = []\n",
    "midwest = [] \n",
    "south = []\n",
    "northeast = []"
   ]
  },
  {
   "cell_type": "code",
   "execution_count": 5,
   "metadata": {},
   "outputs": [],
   "source": [
    "for state in states:\n",
    "    if (data_states[state].get('region')) == 'pacific':\n",
    "        pacific.append(state)\n",
    "    elif (data_states[state].get('region')) == 'west':\n",
    "        west.append(state)\n",
    "    elif (data_states[state].get('region')) == 'midwest':\n",
    "        midwest.append(state)\n",
    "    elif (data_states[state].get('region')) == 'south':\n",
    "        south.append(state)\n",
    "    elif (data_states[state].get('region')) == 'northeast':\n",
    "        northeast.append(state)"
   ]
  },
  {
   "cell_type": "code",
   "execution_count": 6,
   "metadata": {},
   "outputs": [
    {
     "name": "stdout",
     "output_type": "stream",
     "text": [
      "Pacific: ['alaska', 'hawaii']\n",
      "\n",
      "West: ['arizona', 'california', 'colorado', 'idaho', 'montana', 'nevada', 'new mexico', 'oregon', 'utah', 'washington', 'wyoming']\n",
      "\n",
      "Midwest: ['illinois', 'indiana', 'iowa', 'kansas', 'michigan', 'minnesota', 'missouri', 'nebraska', 'north dakota', 'ohio', 'south dakota', 'wisconsin']\n",
      "\n",
      "South: ['alabama', 'arkansas', 'delaware', 'florida', 'georgia', 'kentucky', 'louisiana', 'maryland', 'mississippi', 'north carolina', 'oklahoma', 'south carolina', 'tennessee', 'texas', 'virginia', 'west virginia']\n",
      "\n",
      "Northeast: ['connecticut', 'maine', 'massachusetts', 'new hampshire', 'new jersey', 'new york', 'pennsylvania', 'rhode island', 'vermont']\n"
     ]
    }
   ],
   "source": [
    "print('Pacific: ' + str(pacific))\n",
    "print('\\nWest: ' + str(west))\n",
    "print('\\nMidwest: ' + str(midwest))\n",
    "print('\\nSouth: ' + str(south))\n",
    "print('\\nNortheast: ' + str(northeast))"
   ]
  },
  {
   "cell_type": "markdown",
   "metadata": {},
   "source": [
    "Print the state names in order by the year they joined the United States."
   ]
  },
  {
   "cell_type": "code",
   "execution_count": 7,
   "metadata": {},
   "outputs": [
    {
     "name": "stdout",
     "output_type": "stream",
     "text": [
      "['delaware', 'pennsylvania', 'new jersey', 'georgia', 'south carolina', 'virginia', 'maryland', 'new york', 'connecticut', 'massachusetts', 'new hampshire', 'north carolina', 'rhode island', 'vermont', 'kentucky', 'tennessee', 'ohio', 'louisiana', 'indiana', 'mississippi', 'illinois', 'alabama', 'maine', 'missouri', 'arkansas', 'michigan', 'texas', 'florida', 'iowa', 'wisconsin', 'california', 'minnesota', 'oregon', 'kansas', 'west virginia', 'nevada', 'nebraska', 'colorado', 'washington', 'montana', 'north dakota', 'south dakota', 'idaho', 'wyoming', 'utah', 'oklahoma', 'arizona', 'new mexico', 'alaska', 'hawaii']\n"
     ]
    }
   ],
   "source": [
    "date_dic = {}\n",
    "\n",
    "for index, state in enumerate(data_states):\n",
    "    date_dic.update({state: data_states[state].get('year_joined')})\n",
    "\n",
    "sorted_states = sorted(date_dic, key = date_dic.get)\n",
    "\n",
    "print(sorted_states)"
   ]
  },
  {
   "cell_type": "markdown",
   "metadata": {},
   "source": [
    "Delete your least favorite state from the dictionary. This operation should be done in-place  \n",
    "Print the length of the updated dictionary"
   ]
  },
  {
   "cell_type": "code",
   "execution_count": 8,
   "metadata": {},
   "outputs": [
    {
     "data": {
      "text/plain": [
       "{'year_joined': 1846, 'region': 'midwest'}"
      ]
     },
     "execution_count": 8,
     "metadata": {},
     "output_type": "execute_result"
    }
   ],
   "source": [
    "data_states.pop('iowa')"
   ]
  },
  {
   "cell_type": "code",
   "execution_count": 9,
   "metadata": {},
   "outputs": [
    {
     "name": "stdout",
     "output_type": "stream",
     "text": [
      "49\n"
     ]
    }
   ],
   "source": [
    "print(len(data_states))"
   ]
  },
  {
   "cell_type": "markdown",
   "metadata": {},
   "source": [
    "Add your favorite country to the dictionary. This operation should be done in-place.  \n",
    "The key should be the country name. The value should be a dictionary containing the country's language and the year it joined the U.N."
   ]
  },
  {
   "cell_type": "code",
   "execution_count": 10,
   "metadata": {},
   "outputs": [],
   "source": [
    "data_states.update({'India': {'language': 'Hindi', 'un_year': 1945}})"
   ]
  },
  {
   "cell_type": "markdown",
   "metadata": {},
   "source": [
    "- Print the length of the updated dictionary\n",
    "- Print out the country's entry from the dictionary"
   ]
  },
  {
   "cell_type": "code",
   "execution_count": 11,
   "metadata": {},
   "outputs": [
    {
     "name": "stdout",
     "output_type": "stream",
     "text": [
      "50\n"
     ]
    }
   ],
   "source": [
    "print(len(data_states))"
   ]
  },
  {
   "cell_type": "code",
   "execution_count": 12,
   "metadata": {},
   "outputs": [
    {
     "name": "stdout",
     "output_type": "stream",
     "text": [
      "{'language': 'Hindi', 'un_year': 1945}\n"
     ]
    }
   ],
   "source": [
    "print(data_states['India'])"
   ]
  },
  {
   "cell_type": "markdown",
   "metadata": {},
   "source": [
    "## Problem 4\n",
    "\n",
    "List comprehension practice"
   ]
  },
  {
   "cell_type": "code",
   "execution_count": 13,
   "metadata": {},
   "outputs": [],
   "source": [
    "nums = list(range(100))  # Initial list of numbers from 0 - 99"
   ]
  },
  {
   "cell_type": "markdown",
   "metadata": {},
   "source": [
    "Use a list comprehension to create a list of all the numbers that are divisible by 11"
   ]
  },
  {
   "cell_type": "code",
   "execution_count": 14,
   "metadata": {},
   "outputs": [],
   "source": [
    "nums = [x for x in range(1000) if ((x % 11) == 0)]"
   ]
  },
  {
   "cell_type": "code",
   "execution_count": 15,
   "metadata": {},
   "outputs": [
    {
     "name": "stdout",
     "output_type": "stream",
     "text": [
      "[0, 11, 22, 33, 44, 55, 66, 77, 88, 99, 110, 121, 132, 143, 154, 165, 176, 187, 198, 209, 220, 231, 242, 253, 264, 275, 286, 297, 308, 319, 330, 341, 352, 363, 374, 385, 396, 407, 418, 429, 440, 451, 462, 473, 484, 495, 506, 517, 528, 539, 550, 561, 572, 583, 594, 605, 616, 627, 638, 649, 660, 671, 682, 693, 704, 715, 726, 737, 748, 759, 770, 781, 792, 803, 814, 825, 836, 847, 858, 869, 880, 891, 902, 913, 924, 935, 946, 957, 968, 979, 990]\n"
     ]
    }
   ],
   "source": [
    "print(nums)"
   ]
  },
  {
   "cell_type": "markdown",
   "metadata": {},
   "source": [
    "Use a list comprehension to create a list with only the positive numbers. If a number is negative, store **None** in the new list instead"
   ]
  },
  {
   "cell_type": "code",
   "execution_count": 16,
   "metadata": {},
   "outputs": [],
   "source": [
    "nums = [34.6, -203.4, 44.9, 68.3, -12.2, 44.6, 12.7]"
   ]
  },
  {
   "cell_type": "code",
   "execution_count": 17,
   "metadata": {},
   "outputs": [],
   "source": [
    "new_nums = [x if x >= 0 else None for x in nums]"
   ]
  },
  {
   "cell_type": "code",
   "execution_count": 18,
   "metadata": {},
   "outputs": [
    {
     "name": "stdout",
     "output_type": "stream",
     "text": [
      "[34.6, None, 44.9, 68.3, None, 44.6, 12.7]\n"
     ]
    }
   ],
   "source": [
    "print(new_nums)"
   ]
  },
  {
   "cell_type": "markdown",
   "metadata": {},
   "source": [
    "Use a list comprehension to count the number of vowels in the sentence below"
   ]
  },
  {
   "cell_type": "code",
   "execution_count": 19,
   "metadata": {},
   "outputs": [],
   "source": [
    "sentence = 'The quick brown fox jumps over the lazy dog'"
   ]
  },
  {
   "cell_type": "code",
   "execution_count": 20,
   "metadata": {},
   "outputs": [],
   "source": [
    "vowels = [x for x in sentence if x in 'aeiou']"
   ]
  },
  {
   "cell_type": "code",
   "execution_count": 21,
   "metadata": {},
   "outputs": [
    {
     "name": "stdout",
     "output_type": "stream",
     "text": [
      "11\n"
     ]
    }
   ],
   "source": [
    "print(len(vowels))"
   ]
  },
  {
   "cell_type": "markdown",
   "metadata": {},
   "source": [
    "Split the above sentence into a list of words"
   ]
  },
  {
   "cell_type": "code",
   "execution_count": 22,
   "metadata": {},
   "outputs": [],
   "source": [
    "sen_list = [sentence]\n",
    "sen_list = sen_list[0].split()"
   ]
  },
  {
   "cell_type": "code",
   "execution_count": 23,
   "metadata": {},
   "outputs": [
    {
     "name": "stdout",
     "output_type": "stream",
     "text": [
      "['The', 'quick', 'brown', 'fox', 'jumps', 'over', 'the', 'lazy', 'dog']\n"
     ]
    }
   ],
   "source": [
    "print(sen_list)"
   ]
  },
  {
   "cell_type": "markdown",
   "metadata": {},
   "source": [
    "Use a dictionary comprehension to count the length of each word in the sentence"
   ]
  },
  {
   "cell_type": "code",
   "execution_count": 24,
   "metadata": {},
   "outputs": [
    {
     "name": "stdout",
     "output_type": "stream",
     "text": [
      "{'The': 3, 'quick': 5, 'brown': 5, 'fox': 3, 'jumps': 5, 'over': 4, 'the': 3, 'lazy': 4, 'dog': 3}\n"
     ]
    }
   ],
   "source": [
    "word_len = {x: len(x) for x in sen_list} \n",
    "\n",
    "print(word_len)"
   ]
  },
  {
   "cell_type": "markdown",
   "metadata": {},
   "source": [
    "Print each of the words sorted by its length (shortest --> longest)"
   ]
  },
  {
   "cell_type": "code",
   "execution_count": 25,
   "metadata": {},
   "outputs": [
    {
     "name": "stdout",
     "output_type": "stream",
     "text": [
      "['The', 'fox', 'the', 'dog', 'over', 'lazy', 'quick', 'brown', 'jumps']\n"
     ]
    }
   ],
   "source": [
    "word_len = sorted(word_len, key = word_len.get)\n",
    "\n",
    "print(word_len)"
   ]
  },
  {
   "cell_type": "markdown",
   "metadata": {},
   "source": [
    "## Problem 5\n",
    "\n",
    "Below is an Python function and an example of the input and output of this function. In the Markdown cell below the example, describe in your own words what each step of the *process_tweets* function is doing. Be specific in your description"
   ]
  },
  {
   "cell_type": "code",
   "execution_count": 26,
   "metadata": {},
   "outputs": [],
   "source": [
    "def process_tweets(tweet_json, language='en'):\n",
    "    post_dict = {}\n",
    "    for tweet_id, tweet_data in tweet_json.items():\n",
    "        try:\n",
    "            if tweet_data['language'] == language:\n",
    "                text = tweet_data['body'].lower().strip()\n",
    "                \n",
    "                post_dict[tweet_id] = {\n",
    "                    'raw_text': tweet_data['body'],\n",
    "                    'text': text,\n",
    "                    'num_tokens': len(text.split())\n",
    "                }\n",
    "        except KeyError:\n",
    "            continue\n",
    "    \n",
    "    return post_dict"
   ]
  },
  {
   "cell_type": "code",
   "execution_count": 27,
   "metadata": {},
   "outputs": [],
   "source": [
    "tweet_json = {\n",
    "    123456: {'language': 'en', 'user': 'user123', 'body': 'Hello friends'},\n",
    "    789012: {'user': 'asdf', 'language': 'es', 'body': 'Hola Amigos'},\n",
    "    543876: {'user': '__abcdef__', 'language': 'en', 'body': 'ToTaLLy nOt a BoT aCCouNt.'},\n",
    "    623432: {'user': None}\n",
    "}"
   ]
  },
  {
   "cell_type": "code",
   "execution_count": 28,
   "metadata": {
    "scrolled": true
   },
   "outputs": [
    {
     "data": {
      "text/plain": [
       "{123456: {'raw_text': 'Hello friends',\n",
       "  'text': 'hello friends',\n",
       "  'num_tokens': 2},\n",
       " 543876: {'raw_text': 'ToTaLLy nOt a BoT aCCouNt.',\n",
       "  'text': 'totally not a bot account.',\n",
       "  'num_tokens': 5}}"
      ]
     },
     "execution_count": 28,
     "metadata": {},
     "output_type": "execute_result"
    }
   ],
   "source": [
    "en_posts = process_tweets(tweet_json)\n",
    "en_posts"
   ]
  },
  {
   "cell_type": "code",
   "execution_count": 29,
   "metadata": {},
   "outputs": [
    {
     "data": {
      "text/plain": [
       "{789012: {'raw_text': 'Hola Amigos', 'text': 'hola amigos', 'num_tokens': 2}}"
      ]
     },
     "execution_count": 29,
     "metadata": {},
     "output_type": "execute_result"
    }
   ],
   "source": [
    "es_posts = process_tweets(tweet_json, language='es')\n",
    "es_posts"
   ]
  },
  {
   "cell_type": "markdown",
   "metadata": {},
   "source": [
    "### Description of process_tweets ###\n",
    "\n",
    "#### Overview ####\n",
    "*process_tweets takes in a dictionary with tweets from different users with the tweet content and language. It serves a purpose of returning a filtered dictionary with tweets of only english language, with the original text, modified text converted to lowercase, and number of words in the tweet.* \n",
    "\n",
    "#### Steps ####\n",
    "- the process_tweets function takes in two arguments, first is a dictionary/json file and second is the language value that by default is set to 'en'(English).\n",
    "- an empty dictionary is defined, named post_dict\n",
    "- there is a for loop that iterates through the dictionary provided as the first argument named 'tweet_json' with index variable 'tweet_id'\n",
    "- the for-loop contains an error exception, underwhich there is an if-statement that checks if the tweet language value is english\n",
    "- if the tweet language is english, its information is added to the empty dictionary post_dict with values such as 'raw_text'/original text, 'text'/modified lowercase text, and 'num_tokens'/number of words in the text field\n",
    "- if the tweet language is not english, it is not included/skipped from being included in the post_dict\n",
    "- finally after iteration completes the post_dict is returned\n"
   ]
  }
 ],
 "metadata": {
  "kernelspec": {
   "display_name": "Python 3",
   "language": "python",
   "name": "python3"
  },
  "language_info": {
   "codemirror_mode": {
    "name": "ipython",
    "version": 3
   },
   "file_extension": ".py",
   "mimetype": "text/x-python",
   "name": "python",
   "nbconvert_exporter": "python",
   "pygments_lexer": "ipython3",
   "version": "3.8.8"
  }
 },
 "nbformat": 4,
 "nbformat_minor": 1
}
