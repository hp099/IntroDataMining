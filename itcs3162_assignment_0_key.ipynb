{
 "cells": [
  {
   "cell_type": "markdown",
   "metadata": {
    "collapsed": true
   },
   "source": [
    "# ITCS 3162 - Assignment 0\n",
    "\n",
    "Introduction to Python Programming\n",
    "\n",
    "### Name: \n",
    "\n",
    "### Submission instructions\n",
    "\n",
    "- Enter your name in the space above.  \n",
    "- Save your completed json as *itcs3162_assignment_0_**\\<uncc username>**.ipynb*.\n",
    "- Upload **both** the **ipynb** file and the **html** file version of your completed notebook to Canvas.  \n",
    "\n",
    "You can download the notebook in html format by going to *File --> Download as --> HTML*"
   ]
  },
  {
   "cell_type": "markdown",
   "metadata": {},
   "source": [
    "## Problem 1:\n",
    "\n",
    "Prompt the user to input an integer and store it in a variable. Ensure that the user input is a valid integer. If it is not, use a loop to re-prompt the user for input until a valid number is entered."
   ]
  },
  {
   "cell_type": "code",
   "execution_count": 1,
   "metadata": {},
   "outputs": [
    {
     "name": "stdout",
     "output_type": "stream",
     "text": [
      "Enter an integer: a\n",
      "Invalid input\n",
      "Enter an integer: 1.5\n",
      "Invalid input\n",
      "Enter an integer: -2\n"
     ]
    },
    {
     "data": {
      "text/plain": [
       "-2"
      ]
     },
     "execution_count": 1,
     "metadata": {},
     "output_type": "execute_result"
    }
   ],
   "source": [
    "\"\"\"\n",
    "Option 1\n",
    "\"\"\"\n",
    "\n",
    "while True:\n",
    "    try:\n",
    "        num = int(input('Enter an integer: '))\n",
    "        break  # Successfully converted input to int. Break out of while loop\n",
    "    except ValueError:\n",
    "        print('Invalid input')\n",
    "\n",
    "num"
   ]
  },
  {
   "cell_type": "code",
   "execution_count": 2,
   "metadata": {},
   "outputs": [
    {
     "name": "stdout",
     "output_type": "stream",
     "text": [
      "Enter an integer: a\n",
      "Invalid input\n",
      "Enter an integer: 1.5\n",
      "Invalid input\n",
      "Enter an integer: -3\n"
     ]
    },
    {
     "data": {
      "text/plain": [
       "-3"
      ]
     },
     "execution_count": 2,
     "metadata": {},
     "output_type": "execute_result"
    }
   ],
   "source": [
    "\"\"\"\n",
    "Option 2\n",
    "\"\"\"\n",
    "\n",
    "num = None\n",
    "while not isinstance(num, int):\n",
    "    try:\n",
    "        num = int(input('Enter an integer: '))\n",
    "    except ValueError:\n",
    "        print('Invalid input')\n",
    "\n",
    "num"
   ]
  },
  {
   "cell_type": "markdown",
   "metadata": {},
   "source": [
    "- Print the type of stored user input\n",
    "- Print the square of the input number\n",
    "- Print the remainder when the input number is divided by 7"
   ]
  },
  {
   "cell_type": "code",
   "execution_count": 3,
   "metadata": {},
   "outputs": [
    {
     "data": {
      "text/plain": [
       "int"
      ]
     },
     "execution_count": 3,
     "metadata": {},
     "output_type": "execute_result"
    }
   ],
   "source": [
    "type(num)"
   ]
  },
  {
   "cell_type": "code",
   "execution_count": 4,
   "metadata": {},
   "outputs": [
    {
     "data": {
      "text/plain": [
       "9"
      ]
     },
     "execution_count": 4,
     "metadata": {},
     "output_type": "execute_result"
    }
   ],
   "source": [
    "num ** 2"
   ]
  },
  {
   "cell_type": "code",
   "execution_count": 5,
   "metadata": {},
   "outputs": [
    {
     "data": {
      "text/plain": [
       "4"
      ]
     },
     "execution_count": 5,
     "metadata": {},
     "output_type": "execute_result"
    }
   ],
   "source": [
    "num % 7"
   ]
  },
  {
   "cell_type": "markdown",
   "metadata": {},
   "source": [
    "## Problem 2:\n",
    "\n",
    "Define a function that will return a list of the first *n* numbers in the Fibonacci sequence."
   ]
  },
  {
   "cell_type": "code",
   "execution_count": 6,
   "metadata": {},
   "outputs": [],
   "source": [
    "def fibonacci(n):\n",
    "    fib_nums = [0, 1]  # Intialize the Fibonacci sequence with 0, 1\n",
    "    for _ in range(n-2):\n",
    "        new_num = fib_nums[-1] + fib_nums[-2]  # Next number is the sum of the two preceding numbers\n",
    "        fib_nums.append(new_num)\n",
    "    \n",
    "    return fib_nums"
   ]
  },
  {
   "cell_type": "markdown",
   "metadata": {},
   "source": [
    "- Print the first **10** numbers in the Fibonacci sequence as a string of comma-separated values\n",
    "- Print the total sum of the first 10 Fibonnaci numbers\n",
    "- Print your list of Fibonnaci numbers in reverse sorted order (greatest --> smallest). Do **not** change the original number list"
   ]
  },
  {
   "cell_type": "code",
   "execution_count": 7,
   "metadata": {},
   "outputs": [
    {
     "name": "stdout",
     "output_type": "stream",
     "text": [
      "0, 1, 1, 2, 3, 5, 8, 13, 21, 34\n"
     ]
    }
   ],
   "source": [
    "num_seq = fibonacci(10)\n",
    "print(', '.join(str(n) for n in num_seq))"
   ]
  },
  {
   "cell_type": "code",
   "execution_count": 8,
   "metadata": {},
   "outputs": [
    {
     "data": {
      "text/plain": [
       "88"
      ]
     },
     "execution_count": 8,
     "metadata": {},
     "output_type": "execute_result"
    }
   ],
   "source": [
    "sum(num_seq)"
   ]
  },
  {
   "cell_type": "code",
   "execution_count": 9,
   "metadata": {},
   "outputs": [
    {
     "data": {
      "text/plain": [
       "[34, 21, 13, 8, 5, 3, 2, 1, 1, 0]"
      ]
     },
     "execution_count": 9,
     "metadata": {},
     "output_type": "execute_result"
    }
   ],
   "source": [
    "rev_seq = sorted(num_seq, reverse=True)\n",
    "rev_seq"
   ]
  },
  {
   "cell_type": "markdown",
   "metadata": {},
   "source": [
    "## Problem 3:\n",
    "\n",
    "This problem will use the provided *states.json* file that you can download from Canvas. Ensure that the data file is in the same directory as your jupyter notebook.\n",
    "\n",
    "In the Markdown cell below, describe the structure of the json file in your own words. Think in terms of the data structures and data types used by Python."
   ]
  },
  {
   "cell_type": "markdown",
   "metadata": {},
   "source": [
    "**The file contains a dictionary where each key is the string name of the state.\n",
    "The value of each state entry is a dictionary containing two attributes: the integer year the state joined the union and the string name of the region to which the state belongs.**"
   ]
  },
  {
   "cell_type": "markdown",
   "metadata": {},
   "source": [
    "Read in the *states.json* file using Python's built-in json library"
   ]
  },
  {
   "cell_type": "code",
   "execution_count": 10,
   "metadata": {},
   "outputs": [],
   "source": [
    "import json\n",
    "\n",
    "with open('states.json') as f:\n",
    "    states = json.load(f)"
   ]
  },
  {
   "cell_type": "markdown",
   "metadata": {},
   "source": [
    "- Print the length of your dictionary\n",
    "- Extract the list of all state names, and print the state names in alphabetical order"
   ]
  },
  {
   "cell_type": "code",
   "execution_count": 11,
   "metadata": {},
   "outputs": [
    {
     "data": {
      "text/plain": [
       "50"
      ]
     },
     "execution_count": 11,
     "metadata": {},
     "output_type": "execute_result"
    }
   ],
   "source": [
    "len(states)"
   ]
  },
  {
   "cell_type": "code",
   "execution_count": 12,
   "metadata": {
    "scrolled": true
   },
   "outputs": [
    {
     "data": {
      "text/plain": [
       "['alabama',\n",
       " 'alaska',\n",
       " 'arizona',\n",
       " 'arkansas',\n",
       " 'california',\n",
       " 'colorado',\n",
       " 'connecticut',\n",
       " 'delaware',\n",
       " 'florida',\n",
       " 'georgia',\n",
       " 'hawaii',\n",
       " 'idaho',\n",
       " 'illinois',\n",
       " 'indiana',\n",
       " 'iowa',\n",
       " 'kansas',\n",
       " 'kentucky',\n",
       " 'louisiana',\n",
       " 'maine',\n",
       " 'maryland',\n",
       " 'massachusetts',\n",
       " 'michigan',\n",
       " 'minnesota',\n",
       " 'mississippi',\n",
       " 'missouri',\n",
       " 'montana',\n",
       " 'nebraska',\n",
       " 'nevada',\n",
       " 'new hampshire',\n",
       " 'new jersey',\n",
       " 'new mexico',\n",
       " 'new york',\n",
       " 'north carolina',\n",
       " 'north dakota',\n",
       " 'ohio',\n",
       " 'oklahoma',\n",
       " 'oregon',\n",
       " 'pennsylvania',\n",
       " 'rhode island',\n",
       " 'south carolina',\n",
       " 'south dakota',\n",
       " 'tennessee',\n",
       " 'texas',\n",
       " 'utah',\n",
       " 'vermont',\n",
       " 'virginia',\n",
       " 'washington',\n",
       " 'west virginia',\n",
       " 'wisconsin',\n",
       " 'wyoming']"
      ]
     },
     "execution_count": 12,
     "metadata": {},
     "output_type": "execute_result"
    }
   ],
   "source": [
    "sorted(states.keys())"
   ]
  },
  {
   "cell_type": "markdown",
   "metadata": {},
   "source": [
    "Split the state names into separate lists by which U.S. Census region the state belongs to. Print the resulting regional state lists. Print the combined sum of the lengths of each list (should add to 50)  \n",
    "**Note**: This should require only a single for loop to create all the lists"
   ]
  },
  {
   "cell_type": "code",
   "execution_count": 13,
   "metadata": {},
   "outputs": [],
   "source": [
    "\"\"\"\n",
    "Option 1:\n",
    "    - Requires knowing the number of lists necessary\n",
    "    - Requires separate logic for each region\n",
    "\"\"\"\n",
    "\n",
    "pacific, west, midwest, south, northeast = [], [], [], [], []\n",
    "for state_name, state_data in states.items():\n",
    "    state_region = state_data['region']\n",
    "    \n",
    "    if state_region == 'pacific':\n",
    "        pacific.append(state_name)\n",
    "    elif state_region == 'west':\n",
    "        west.append(state_name)\n",
    "    elif state_region == 'midwest':\n",
    "        midwest.append(state_name)\n",
    "    elif state_region == 'south':\n",
    "        south.append(state_name)\n",
    "    elif state_region == 'northeast':\n",
    "        northeast.append(state_name)\n",
    "    else:\n",
    "        raise ValueError('Missing region')"
   ]
  },
  {
   "cell_type": "code",
   "execution_count": 14,
   "metadata": {},
   "outputs": [
    {
     "name": "stdout",
     "output_type": "stream",
     "text": [
      "['alaska', 'hawaii']\n",
      "['washington', 'oregon', 'california', 'idaho', 'nevada', 'utah', 'arizona', 'montana', 'wyoming', 'colorado', 'new mexico']\n",
      "['north dakota', 'south dakota', 'nebraska', 'kansas', 'minnesota', 'iowa', 'missouri', 'wisconsin', 'illinois', 'michigan', 'indiana', 'ohio']\n",
      "['oklahoma', 'texas', 'arkansas', 'louisiana', 'kentucky', 'tennessee', 'mississippi', 'alabama', 'florida', 'georgia', 'south carolina', 'north carolina', 'virginia', 'west virginia', 'maryland', 'delaware']\n",
      "['pennsylvania', 'new jersey', 'new york', 'connecticut', 'massachusetts', 'vermont', 'new hampshire', 'rhode island', 'maine']\n"
     ]
    }
   ],
   "source": [
    "print(pacific)\n",
    "print(west)\n",
    "print(midwest)\n",
    "print(south)\n",
    "print(northeast)"
   ]
  },
  {
   "cell_type": "code",
   "execution_count": 15,
   "metadata": {},
   "outputs": [
    {
     "data": {
      "text/plain": [
       "50"
      ]
     },
     "execution_count": 15,
     "metadata": {},
     "output_type": "execute_result"
    }
   ],
   "source": [
    "region_lists = [pacific, west, midwest, south, northeast]\n",
    "sum(len(region) for region in region_lists)"
   ]
  },
  {
   "cell_type": "markdown",
   "metadata": {},
   "source": [
    "***"
   ]
  },
  {
   "cell_type": "code",
   "execution_count": 16,
   "metadata": {},
   "outputs": [],
   "source": [
    "\"\"\"\n",
    "Option 2:\n",
    "    - Requires knowing the number of lists necessary\n",
    "    - Logic is simplified\n",
    "\"\"\"\n",
    "\n",
    "region_names = ['pacific', 'west', 'midwest', 'south', 'northeast']\n",
    "region_states = {region: [] for region in region_names}\n",
    "\n",
    "for state_name, state_data in states.items():\n",
    "    region_states[state_data['region']].append(state_name)"
   ]
  },
  {
   "cell_type": "code",
   "execution_count": 17,
   "metadata": {
    "scrolled": true
   },
   "outputs": [
    {
     "name": "stdout",
     "output_type": "stream",
     "text": [
      "{'midwest': ['north dakota',\n",
      "             'south dakota',\n",
      "             'nebraska',\n",
      "             'kansas',\n",
      "             'minnesota',\n",
      "             'iowa',\n",
      "             'missouri',\n",
      "             'wisconsin',\n",
      "             'illinois',\n",
      "             'michigan',\n",
      "             'indiana',\n",
      "             'ohio'],\n",
      " 'northeast': ['pennsylvania',\n",
      "               'new jersey',\n",
      "               'new york',\n",
      "               'connecticut',\n",
      "               'massachusetts',\n",
      "               'vermont',\n",
      "               'new hampshire',\n",
      "               'rhode island',\n",
      "               'maine'],\n",
      " 'pacific': ['alaska', 'hawaii'],\n",
      " 'south': ['oklahoma',\n",
      "           'texas',\n",
      "           'arkansas',\n",
      "           'louisiana',\n",
      "           'kentucky',\n",
      "           'tennessee',\n",
      "           'mississippi',\n",
      "           'alabama',\n",
      "           'florida',\n",
      "           'georgia',\n",
      "           'south carolina',\n",
      "           'north carolina',\n",
      "           'virginia',\n",
      "           'west virginia',\n",
      "           'maryland',\n",
      "           'delaware'],\n",
      " 'west': ['washington',\n",
      "          'oregon',\n",
      "          'california',\n",
      "          'idaho',\n",
      "          'nevada',\n",
      "          'utah',\n",
      "          'arizona',\n",
      "          'montana',\n",
      "          'wyoming',\n",
      "          'colorado',\n",
      "          'new mexico']}\n"
     ]
    }
   ],
   "source": [
    "from pprint import pprint\n",
    "\n",
    "pprint(region_states)"
   ]
  },
  {
   "cell_type": "code",
   "execution_count": 18,
   "metadata": {},
   "outputs": [
    {
     "data": {
      "text/plain": [
       "50"
      ]
     },
     "execution_count": 18,
     "metadata": {},
     "output_type": "execute_result"
    }
   ],
   "source": [
    "sum(len(state_list) for state_list in region_states.values())"
   ]
  },
  {
   "cell_type": "markdown",
   "metadata": {},
   "source": [
    "***"
   ]
  },
  {
   "cell_type": "code",
   "execution_count": 19,
   "metadata": {},
   "outputs": [],
   "source": [
    "\"\"\"\n",
    "Option 3:\n",
    "    - NOT necessary to know number of lists beforehand (flexible)\n",
    "    - Logic is simplified\n",
    "\"\"\"\n",
    "\n",
    "from collections import defaultdict\n",
    "\n",
    "region_state_dict = defaultdict(list)\n",
    "for state_name, state_data in states.items():\n",
    "    region_state_dict[state_data['region']].append(state_name)"
   ]
  },
  {
   "cell_type": "code",
   "execution_count": 20,
   "metadata": {
    "scrolled": true
   },
   "outputs": [
    {
     "name": "stdout",
     "output_type": "stream",
     "text": [
      "defaultdict(<class 'list'>,\n",
      "            {'midwest': ['north dakota',\n",
      "                         'south dakota',\n",
      "                         'nebraska',\n",
      "                         'kansas',\n",
      "                         'minnesota',\n",
      "                         'iowa',\n",
      "                         'missouri',\n",
      "                         'wisconsin',\n",
      "                         'illinois',\n",
      "                         'michigan',\n",
      "                         'indiana',\n",
      "                         'ohio'],\n",
      "             'northeast': ['pennsylvania',\n",
      "                           'new jersey',\n",
      "                           'new york',\n",
      "                           'connecticut',\n",
      "                           'massachusetts',\n",
      "                           'vermont',\n",
      "                           'new hampshire',\n",
      "                           'rhode island',\n",
      "                           'maine'],\n",
      "             'pacific': ['alaska', 'hawaii'],\n",
      "             'south': ['oklahoma',\n",
      "                       'texas',\n",
      "                       'arkansas',\n",
      "                       'louisiana',\n",
      "                       'kentucky',\n",
      "                       'tennessee',\n",
      "                       'mississippi',\n",
      "                       'alabama',\n",
      "                       'florida',\n",
      "                       'georgia',\n",
      "                       'south carolina',\n",
      "                       'north carolina',\n",
      "                       'virginia',\n",
      "                       'west virginia',\n",
      "                       'maryland',\n",
      "                       'delaware'],\n",
      "             'west': ['washington',\n",
      "                      'oregon',\n",
      "                      'california',\n",
      "                      'idaho',\n",
      "                      'nevada',\n",
      "                      'utah',\n",
      "                      'arizona',\n",
      "                      'montana',\n",
      "                      'wyoming',\n",
      "                      'colorado',\n",
      "                      'new mexico']})\n"
     ]
    }
   ],
   "source": [
    "pprint(region_state_dict)"
   ]
  },
  {
   "cell_type": "code",
   "execution_count": 21,
   "metadata": {},
   "outputs": [
    {
     "data": {
      "text/plain": [
       "50"
      ]
     },
     "execution_count": 21,
     "metadata": {},
     "output_type": "execute_result"
    }
   ],
   "source": [
    "sum(len(state_list) for state_list in region_state_dict.values())"
   ]
  },
  {
   "cell_type": "markdown",
   "metadata": {},
   "source": [
    "Print the state names and its numerical order in order by the year they joined the United States."
   ]
  },
  {
   "cell_type": "code",
   "execution_count": 22,
   "metadata": {
    "scrolled": true
   },
   "outputs": [
    {
     "name": "stdout",
     "output_type": "stream",
     "text": [
      "01: delaware\n",
      "02: pennsylvania\n",
      "03: new jersey\n",
      "04: georgia\n",
      "05: south carolina\n",
      "06: virginia\n",
      "07: maryland\n",
      "08: new york\n",
      "09: connecticut\n",
      "10: massachusetts\n",
      "11: new hampshire\n",
      "12: north carolina\n",
      "13: rhode island\n",
      "14: vermont\n",
      "15: kentucky\n",
      "16: tennessee\n",
      "17: ohio\n",
      "18: louisiana\n",
      "19: indiana\n",
      "20: mississippi\n",
      "21: illinois\n",
      "22: alabama\n",
      "23: maine\n",
      "24: missouri\n",
      "25: arkansas\n",
      "26: michigan\n",
      "27: texas\n",
      "28: florida\n",
      "29: iowa\n",
      "30: wisconsin\n",
      "31: california\n",
      "32: minnesota\n",
      "33: oregon\n",
      "34: kansas\n",
      "35: west virginia\n",
      "36: nevada\n",
      "37: nebraska\n",
      "38: colorado\n",
      "39: washington\n",
      "40: montana\n",
      "41: north dakota\n",
      "42: south dakota\n",
      "43: idaho\n",
      "44: wyoming\n",
      "45: utah\n",
      "46: oklahoma\n",
      "47: arizona\n",
      "48: new mexico\n",
      "49: alaska\n",
      "50: hawaii\n"
     ]
    }
   ],
   "source": [
    "\"\"\"\n",
    "Option 1:\n",
    "    - Sort nested dictionary using lambda function as key\n",
    "\"\"\"\n",
    "\n",
    "states_by_year = sorted(states.items(), key=lambda x: x[1]['year_joined'])\n",
    "\n",
    "for i, (state_name, _) in enumerate(states_by_year):\n",
    "    print(f'{i+1:02d}: {state_name}')"
   ]
  },
  {
   "cell_type": "code",
   "execution_count": 23,
   "metadata": {
    "scrolled": true
   },
   "outputs": [
    {
     "name": "stdout",
     "output_type": "stream",
     "text": [
      "01: delaware\n",
      "02: pennsylvania\n",
      "03: new jersey\n",
      "04: georgia\n",
      "05: south carolina\n",
      "06: virginia\n",
      "07: maryland\n",
      "08: new york\n",
      "09: connecticut\n",
      "10: massachusetts\n",
      "11: new hampshire\n",
      "12: north carolina\n",
      "13: rhode island\n",
      "14: vermont\n",
      "15: kentucky\n",
      "16: tennessee\n",
      "17: ohio\n",
      "18: louisiana\n",
      "19: indiana\n",
      "20: mississippi\n",
      "21: illinois\n",
      "22: alabama\n",
      "23: maine\n",
      "24: missouri\n",
      "25: arkansas\n",
      "26: michigan\n",
      "27: texas\n",
      "28: florida\n",
      "29: iowa\n",
      "30: wisconsin\n",
      "31: california\n",
      "32: minnesota\n",
      "33: oregon\n",
      "34: kansas\n",
      "35: west virginia\n",
      "36: nevada\n",
      "37: nebraska\n",
      "38: colorado\n",
      "39: washington\n",
      "40: montana\n",
      "41: north dakota\n",
      "42: south dakota\n",
      "43: idaho\n",
      "44: wyoming\n",
      "45: utah\n",
      "46: oklahoma\n",
      "47: arizona\n",
      "48: new mexico\n",
      "49: alaska\n",
      "50: hawaii\n"
     ]
    }
   ],
   "source": [
    "\"\"\"\n",
    "Option 2:\n",
    "    - Create flattened dictionary, then sort\n",
    "\"\"\"\n",
    "\n",
    "states_years = {\n",
    "    state_name: state_data['year_joined']\n",
    "    for state_name, state_data in states.items()\n",
    "}\n",
    "\n",
    "states_by_year2 = sorted(states_years, key=states_years.get)\n",
    "for i, state_name in enumerate(states_by_year2):\n",
    "    print(f'{i+1:02d}: {state_name}')"
   ]
  },
  {
   "cell_type": "markdown",
   "metadata": {},
   "source": [
    "Delete your least favorite state from the dictionary. This operation should be done in-place  \n",
    "Print the length of the updated dictionary"
   ]
  },
  {
   "cell_type": "code",
   "execution_count": 24,
   "metadata": {},
   "outputs": [],
   "source": [
    "del states['new jersey']"
   ]
  },
  {
   "cell_type": "code",
   "execution_count": 25,
   "metadata": {},
   "outputs": [
    {
     "data": {
      "text/plain": [
       "49"
      ]
     },
     "execution_count": 25,
     "metadata": {},
     "output_type": "execute_result"
    }
   ],
   "source": [
    "len(states)"
   ]
  },
  {
   "cell_type": "markdown",
   "metadata": {},
   "source": [
    "Add your favorite country to the dictionary. This operation should be done in-place.  \n",
    "The key should be the country name. The value should be a dictionary containing the country's language and the year it joined the U.N."
   ]
  },
  {
   "cell_type": "code",
   "execution_count": 26,
   "metadata": {},
   "outputs": [],
   "source": [
    "states['ireland'] = {'lang': ['english', 'irish'], 'year_joined': 1955}"
   ]
  },
  {
   "cell_type": "markdown",
   "metadata": {},
   "source": [
    "- Print the length of the updated dictionary\n",
    "- Print out the country's entry from the dictionary"
   ]
  },
  {
   "cell_type": "code",
   "execution_count": 27,
   "metadata": {},
   "outputs": [
    {
     "data": {
      "text/plain": [
       "50"
      ]
     },
     "execution_count": 27,
     "metadata": {},
     "output_type": "execute_result"
    }
   ],
   "source": [
    "len(states)"
   ]
  },
  {
   "cell_type": "code",
   "execution_count": 28,
   "metadata": {},
   "outputs": [
    {
     "data": {
      "text/plain": [
       "{'lang': ['english', 'irish'], 'year_joined': 1955}"
      ]
     },
     "execution_count": 28,
     "metadata": {},
     "output_type": "execute_result"
    }
   ],
   "source": [
    "states['ireland']"
   ]
  },
  {
   "cell_type": "markdown",
   "metadata": {},
   "source": [
    "## Problem 4\n",
    "\n",
    "List and dictionary comprehension practice"
   ]
  },
  {
   "cell_type": "code",
   "execution_count": 29,
   "metadata": {},
   "outputs": [],
   "source": [
    "nums = list(range(100))  # Initial list of numbers from 0 - 99"
   ]
  },
  {
   "cell_type": "markdown",
   "metadata": {},
   "source": [
    "Use a list comprehension to create a list of all the numbers that are divisible by 11"
   ]
  },
  {
   "cell_type": "code",
   "execution_count": 30,
   "metadata": {},
   "outputs": [],
   "source": [
    "filtered_nums = [\n",
    "    num\n",
    "    for num in nums\n",
    "    if num % 11 == 0\n",
    "]"
   ]
  },
  {
   "cell_type": "code",
   "execution_count": 31,
   "metadata": {},
   "outputs": [
    {
     "data": {
      "text/plain": [
       "[0, 11, 22, 33, 44, 55, 66, 77, 88, 99]"
      ]
     },
     "execution_count": 31,
     "metadata": {},
     "output_type": "execute_result"
    }
   ],
   "source": [
    "filtered_nums"
   ]
  },
  {
   "cell_type": "markdown",
   "metadata": {},
   "source": [
    "Use a list comprehension to create a list with only the positive numbers. If a number is negative, store **None** in the new list instead"
   ]
  },
  {
   "cell_type": "code",
   "execution_count": 32,
   "metadata": {},
   "outputs": [],
   "source": [
    "nums = [34.6, -203.4, 44.9, 68.3, -12.2, 44.6, 12.7]"
   ]
  },
  {
   "cell_type": "code",
   "execution_count": 33,
   "metadata": {},
   "outputs": [],
   "source": [
    "filtered_nums = [\n",
    "    num if num > 0\n",
    "    else None\n",
    "    for num in nums\n",
    "]"
   ]
  },
  {
   "cell_type": "code",
   "execution_count": 34,
   "metadata": {},
   "outputs": [
    {
     "data": {
      "text/plain": [
       "[34.6, None, 44.9, 68.3, None, 44.6, 12.7]"
      ]
     },
     "execution_count": 34,
     "metadata": {},
     "output_type": "execute_result"
    }
   ],
   "source": [
    "filtered_nums"
   ]
  },
  {
   "cell_type": "markdown",
   "metadata": {},
   "source": [
    "Use a list comprehension to count the number of vowels in the sentence below"
   ]
  },
  {
   "cell_type": "code",
   "execution_count": 35,
   "metadata": {},
   "outputs": [],
   "source": [
    "sentence = 'The quick brown fox jumps over the lazy dog'"
   ]
  },
  {
   "cell_type": "code",
   "execution_count": 36,
   "metadata": {},
   "outputs": [
    {
     "data": {
      "text/plain": [
       "11"
      ]
     },
     "execution_count": 36,
     "metadata": {},
     "output_type": "execute_result"
    }
   ],
   "source": [
    "\"\"\"\n",
    "Option 1\n",
    "\"\"\"\n",
    "\n",
    "vowels = [\n",
    "    letter\n",
    "    for letter in sentence\n",
    "    if letter in ['a', 'e', 'i', 'o', 'u']\n",
    "]\n",
    "\n",
    "len(vowels)"
   ]
  },
  {
   "cell_type": "code",
   "execution_count": 37,
   "metadata": {},
   "outputs": [
    {
     "data": {
      "text/plain": [
       "11"
      ]
     },
     "execution_count": 37,
     "metadata": {},
     "output_type": "execute_result"
    }
   ],
   "source": [
    "\"\"\"\n",
    "Option 2\n",
    "\"\"\"\n",
    "\n",
    "sum(letter in 'aeiou' for letter in sentence)"
   ]
  },
  {
   "cell_type": "markdown",
   "metadata": {},
   "source": [
    "Split the above sentence into a list of words"
   ]
  },
  {
   "cell_type": "code",
   "execution_count": 38,
   "metadata": {},
   "outputs": [],
   "source": [
    "word_list = sentence.split()"
   ]
  },
  {
   "cell_type": "code",
   "execution_count": 39,
   "metadata": {},
   "outputs": [
    {
     "data": {
      "text/plain": [
       "['The', 'quick', 'brown', 'fox', 'jumps', 'over', 'the', 'lazy', 'dog']"
      ]
     },
     "execution_count": 39,
     "metadata": {},
     "output_type": "execute_result"
    }
   ],
   "source": [
    "word_list"
   ]
  },
  {
   "cell_type": "markdown",
   "metadata": {},
   "source": [
    "Use a dictionary comprehension to count the length of each word in the sentence"
   ]
  },
  {
   "cell_type": "code",
   "execution_count": 40,
   "metadata": {},
   "outputs": [],
   "source": [
    "word_lengths = {\n",
    "    word: len(word)\n",
    "    for word in word_list\n",
    "}"
   ]
  },
  {
   "cell_type": "markdown",
   "metadata": {},
   "source": [
    "Print each of the words sorted by its length (shortest --> longest)"
   ]
  },
  {
   "cell_type": "code",
   "execution_count": 41,
   "metadata": {},
   "outputs": [
    {
     "name": "stdout",
     "output_type": "stream",
     "text": [
      "The: 3 letters\n",
      "fox: 3 letters\n",
      "the: 3 letters\n",
      "dog: 3 letters\n",
      "over: 4 letters\n",
      "lazy: 4 letters\n",
      "quick: 5 letters\n",
      "brown: 5 letters\n",
      "jumps: 5 letters\n"
     ]
    }
   ],
   "source": [
    "for word, word_length in sorted(word_lengths.items(), key=lambda x: x[1]):\n",
    "    print(f'{word}: {word_length} letters')"
   ]
  },
  {
   "cell_type": "markdown",
   "metadata": {},
   "source": [
    "## Problem 5\n",
    "\n",
    "Below is a Python function and an example of the input and output of this function. In the Markdown cell below the example, describe in your own words what each step of the *process_tweets* function is doing. Be specific in your description"
   ]
  },
  {
   "cell_type": "code",
   "execution_count": 42,
   "metadata": {},
   "outputs": [],
   "source": [
    "def process_tweets(tweet_json, language='en'):\n",
    "    post_dict = {}\n",
    "    for tweet_id, tweet_data in tweet_json.items():\n",
    "        try:\n",
    "            if tweet_data['language'] == language:\n",
    "                text = tweet_data['body'].lower().strip()\n",
    "                \n",
    "                post_dict[tweet_id] = {\n",
    "                    'raw_text': tweet_data['body'],\n",
    "                    'text': text,\n",
    "                    'num_tokens': len(text.split())\n",
    "                }\n",
    "        except KeyError:\n",
    "            continue\n",
    "    \n",
    "    return post_dict"
   ]
  },
  {
   "cell_type": "code",
   "execution_count": 43,
   "metadata": {},
   "outputs": [],
   "source": [
    "tweet_json = {\n",
    "    123456: {'language': 'en', 'user': 'user123', 'body': 'Hello friends'},\n",
    "    789012: {'user': 'asdf', 'language': 'es', 'body': 'Hola Amigos'},\n",
    "    543876: {'user': '__abcdef__', 'language': 'en', 'body': 'ToTaLLy nOt a BoT aCCouNt.'},\n",
    "    623432: {'user': None}\n",
    "}"
   ]
  },
  {
   "cell_type": "code",
   "execution_count": 44,
   "metadata": {},
   "outputs": [
    {
     "data": {
      "text/plain": [
       "{123456: {'raw_text': 'Hello friends',\n",
       "  'text': 'hello friends',\n",
       "  'num_tokens': 2},\n",
       " 543876: {'raw_text': 'ToTaLLy nOt a BoT aCCouNt.',\n",
       "  'text': 'totally not a bot account.',\n",
       "  'num_tokens': 5}}"
      ]
     },
     "execution_count": 44,
     "metadata": {},
     "output_type": "execute_result"
    }
   ],
   "source": [
    "en_posts = process_tweets(tweet_json)\n",
    "en_posts"
   ]
  },
  {
   "cell_type": "code",
   "execution_count": 45,
   "metadata": {},
   "outputs": [
    {
     "data": {
      "text/plain": [
       "{789012: {'raw_text': 'Hola Amigos', 'text': 'hola amigos', 'num_tokens': 2}}"
      ]
     },
     "execution_count": 45,
     "metadata": {},
     "output_type": "execute_result"
    }
   ],
   "source": [
    "es_posts = process_tweets(tweet_json, language='es')\n",
    "es_posts"
   ]
  },
  {
   "cell_type": "markdown",
   "metadata": {},
   "source": [
    "process_tweets is a function for filtering tweets based on language and for cleaning/standardizing the raw tweet text.\n",
    "\n",
    "Process tweets takes two parameters as input: a dictionary of tweets and a language. The input dictionary has integer tweet ids as keys and values are dictionaries of attributes for each tweet.\n",
    "\n",
    "1. Intialize an empty output dictionary\n",
    "2. Iterate over the key (tweet id), value (tweet data) pairs of the input dictionary\n",
    "3. Try/except: If the tweet does not contain the 'language' key. Catch the error and continue to next tweet in the loop\n",
    "4. If block: Checks if the raw input tweet is written in the input language parameter. If doesn't match, go to next iteration of loop\n",
    "5. If language matches, clean/standardize the raw text by stripping extra white space and converting to lowercase. Add a new entry to the output dictionary with key = tweet_id and value as a dictionary of tweet attributes containing the raw text, the cleaned text, and the number of tokens (words) in the clean text\n",
    "6. After iterating over all input tweets, return the filtered/processed tweets in a dictionary"
   ]
  },
  {
   "cell_type": "code",
   "execution_count": null,
   "metadata": {},
   "outputs": [],
   "source": []
  }
 ],
 "metadata": {
  "kernelspec": {
   "display_name": "Python 3",
   "language": "python",
   "name": "python3"
  },
  "language_info": {
   "codemirror_mode": {
    "name": "ipython",
    "version": 3
   },
   "file_extension": ".py",
   "mimetype": "text/x-python",
   "name": "python",
   "nbconvert_exporter": "python",
   "pygments_lexer": "ipython3",
   "version": "3.8.8"
  }
 },
 "nbformat": 4,
 "nbformat_minor": 1
}
