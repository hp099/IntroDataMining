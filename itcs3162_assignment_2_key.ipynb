{
 "cells": [
  {
   "cell_type": "markdown",
   "metadata": {
    "collapsed": true
   },
   "source": [
    "# ITCS 3162 - Assignment 2\n",
    "\n",
    "Frequent Itemset Mining - A Priori Algorithm\n",
    "\n",
    "### Name: \n",
    "\n",
    "### Submission instructions\n",
    "\n",
    "- Enter your name in the space above.  \n",
    "- Save your completed json as *itcs3162_assignment_2_**\\<uncc username>**.ipynb*.\n",
    "- Upload **both** the **ipynb** file and the **html** file version of your completed notebook to Canvas.  \n",
    "\n",
    "You can download the notebook in html format by going to *File --> Download as --> HTML*"
   ]
  },
  {
   "cell_type": "markdown",
   "metadata": {},
   "source": [
    "***"
   ]
  },
  {
   "cell_type": "markdown",
   "metadata": {},
   "source": [
    "## Mining Frequent Hashtags on Twitter\n",
    "\n",
    "For this assignment, you will implement the *a priori* algorithm to mine pairs of hashtags that co-occur frequently in a set of tweets scraped using Twitter's API.\n",
    "\n",
    "The \"baskets\" of hashtags are provided in the included data file **hashtag_baskets.csv**. Please download the file from Canvas and put the file in the **same directory** as this Jupyter notebook.\n",
    "\n",
    "The function provided below will read the data file in as a list of sets of hashtags. Each set of hashtags corresponds to all the hashtags used in a single tweet."
   ]
  },
  {
   "cell_type": "code",
   "execution_count": 1,
   "metadata": {},
   "outputs": [],
   "source": [
    "def load_hashtags():\n",
    "    with open('hashtag_baskets.csv') as f:\n",
    "        return [\n",
    "            set(line.strip().split(','))\n",
    "            for line in f\n",
    "        ]"
   ]
  },
  {
   "cell_type": "code",
   "execution_count": 2,
   "metadata": {},
   "outputs": [
    {
     "data": {
      "text/plain": [
       "[{'COVID19', 'StayHomeSaveLives'},\n",
       " {'recallgavinnewsom'},\n",
       " {'stayhome'},\n",
       " {'MondayMotivation'},\n",
       " {'Economy', 'POTUS'},\n",
       " {'BackToWorkNOW', 'NaziNationState', 'OperationGridlock', 'overreach'},\n",
       " {'STFH'},\n",
       " {'COVID19', 'GavinNewsom', 'KamalaHarris', 'coronavirus'},\n",
       " {'protectLA', 'protectcalifornua', 'thankyouforyourservice'},\n",
       " {'CARESAct', 'edd', 'eddpenaltyweeks'}]"
      ]
     },
     "execution_count": 2,
     "metadata": {},
     "output_type": "execute_result"
    }
   ],
   "source": [
    "hashtag_baskets = load_hashtags()\n",
    "hashtag_baskets[:10]  # Print the first few hashtags"
   ]
  },
  {
   "cell_type": "markdown",
   "metadata": {},
   "source": [
    "## Part 1 - Frequent items (25 pts)\n",
    "\n",
    "In the cells below:\n",
    "1. Define a function that takes in a *list of item baskets* and a *support threshold*. The function should **return the frequent items**  \n",
    "    (You may also want to return the count of each hashtag along with the tag itself)\n",
    "2. Use your function to find the frequently occurring hashtags in our dataset\n",
    "3. Print out your support threshold and the total number of hashtags that occur frequently\n",
    "4. Print the **top 10** most frequent hashtags sorted by support"
   ]
  },
  {
   "cell_type": "code",
   "execution_count": 3,
   "metadata": {},
   "outputs": [],
   "source": [
    "from collections import Counter, defaultdict\n",
    "\n",
    "def count_freq_items(baskets, min_support=1):\n",
    "    # Step 1: Count how many times each hashtag occurs\n",
    "    # Option 1: dictionary\n",
    "    item_counts = {}\n",
    "    for basket in baskets:\n",
    "        for item in basket:\n",
    "            if item in item_counts:\n",
    "                item_counts[item] += 1\n",
    "            else:\n",
    "                item_counts[item] = 1\n",
    "    \n",
    "    # Option 2: defaultdict\n",
    "    item_counts = defaultdict(int)\n",
    "    for basket in baskets:\n",
    "        for item in basket:\n",
    "            item_counts[item] += 1\n",
    "    \n",
    "    # Option 3: Counter\n",
    "    item_counts = Counter(\n",
    "                    item\n",
    "                    for basket in baskets\n",
    "                    for item in basket\n",
    "                )\n",
    "\n",
    "    # Step 2: Keep only hashtags that occur at or above our support threshold\n",
    "    freq_items = {\n",
    "        item: count\n",
    "        for item, count in item_counts.items()\n",
    "        if count >= min_support\n",
    "    }\n",
    "    \n",
    "    return freq_items"
   ]
  },
  {
   "cell_type": "markdown",
   "metadata": {},
   "source": [
    "Determine which support threshold to use based on the \"elbow\" curve"
   ]
  },
  {
   "cell_type": "code",
   "execution_count": 4,
   "metadata": {},
   "outputs": [
    {
     "data": {
      "image/png": "[encoded data removed]",
      "text/plain": [
       "<Figure size 1152x576 with 1 Axes>"
      ]
     },
     "metadata": {
      "needs_background": "light"
     },
     "output_type": "display_data"
    }
   ],
   "source": [
    "import matplotlib.pyplot as plt\n",
    "\n",
    "hashtag_counts = count_freq_items(hashtag_baskets)\n",
    "\n",
    "support_range = list(range(1, 16))\n",
    "freq_item_num = [\n",
    "    sum(count >= support for count in hashtag_counts.values())  # Count number of frequent hashtags for different thresholds\n",
    "    for support in support_range\n",
    "]\n",
    "\n",
    "plt.figure(figsize=(16, 8))\n",
    "plt.plot(support_range, freq_item_num)\n",
    "plt.ylabel('Number of Frequent Hashtags')\n",
    "plt.xlabel('Support Threshold')\n",
    "plt.title('Number of Frequent Hashtags vs. Support Threshold')\n",
    "plt.show()"
   ]
  },
  {
   "cell_type": "code",
   "execution_count": 5,
   "metadata": {},
   "outputs": [],
   "source": [
    "support = 5  # Set support threshold at 5 from the \"elbow\" curve\n",
    "freq_hashtags = count_freq_items(hashtag_baskets, support)"
   ]
  },
  {
   "cell_type": "code",
   "execution_count": 6,
   "metadata": {},
   "outputs": [
    {
     "name": "stdout",
     "output_type": "stream",
     "text": [
      "Support Threshold: 5\n",
      "Number of frequent hashtags: 305\n"
     ]
    }
   ],
   "source": [
    "print(f'Support Threshold: {support}')\n",
    "print(f'Number of frequent hashtags: {len(freq_hashtags)}')"
   ]
  },
  {
   "cell_type": "code",
   "execution_count": 7,
   "metadata": {},
   "outputs": [
    {
     "name": "stdout",
     "output_type": "stream",
     "text": [
      "COVID19 577\n",
      "RecallGavinNewsom 409\n",
      "OpenCalifornia 201\n",
      "opencalifornianow 195\n",
      "California 171\n",
      "coronavirus 169\n",
      "StayHomeSaveLives 138\n",
      "AB5 132\n",
      "COVID-19 107\n",
      "StayHome 71\n"
     ]
    }
   ],
   "source": [
    "for hashtag, count in sorted(freq_hashtags.items(), key=lambda x: x[1], reverse=True)[:10]:\n",
    "    print(hashtag, count)"
   ]
  },
  {
   "cell_type": "markdown",
   "metadata": {},
   "source": [
    "## Part 2 - Generate candidates (15 pts)\n",
    "\n",
    "Using your results from Part 1, generate the candidate pairs of hashtags"
   ]
  },
  {
   "cell_type": "code",
   "execution_count": 8,
   "metadata": {},
   "outputs": [],
   "source": [
    "from itertools import combinations\n",
    "\n",
    "def generate_candidate_pairs(freq_items):\n",
    "    return list(combinations(freq_items, 2))"
   ]
  },
  {
   "cell_type": "code",
   "execution_count": 9,
   "metadata": {},
   "outputs": [],
   "source": [
    "candidate_pairs = generate_candidate_pairs(freq_hashtags)"
   ]
  },
  {
   "cell_type": "markdown",
   "metadata": {},
   "source": [
    "## Part 3 - Frequent pairs (30 pts)\n",
    "\n",
    "1. Using your candidate pairs from Part 2, count the occurrences of each candidate pair in our dataset\n",
    "2. Filter based on your support threshold to find the frequent pairs of hashtags\n",
    "3. Print the **top 10** frequent hashtag pairs sorted by support"
   ]
  },
  {
   "cell_type": "code",
   "execution_count": 10,
   "metadata": {},
   "outputs": [],
   "source": [
    "def count_item_pairs(baskets, item_pairs, min_support):\n",
    "    # Step 1: Count how many times each pair of hashtags co-occurs\n",
    "    pair_counts = defaultdict(int)\n",
    "    for candidate_pair in item_pairs:\n",
    "        candidate_pair = frozenset(candidate_pair)  # Convert to a frozenset so we can use set() methods and use as a dict key\n",
    "        for basket in baskets:\n",
    "            if candidate_pair.issubset(basket):\n",
    "                pair_counts[candidate_pair] += 1\n",
    "        \n",
    "    # Step 2: Keep only pairs that occur at or above our support threshold\n",
    "    freq_pairs = {\n",
    "        pair: count\n",
    "        for pair, count in pair_counts.items()\n",
    "        if count >= min_support\n",
    "    }\n",
    "    \n",
    "    return freq_pairs"
   ]
  },
  {
   "cell_type": "code",
   "execution_count": 11,
   "metadata": {},
   "outputs": [],
   "source": [
    "freq_hashtag_pairs = count_item_pairs(hashtag_baskets, candidate_pairs, support)"
   ]
  },
  {
   "cell_type": "code",
   "execution_count": 12,
   "metadata": {},
   "outputs": [
    {
     "name": "stdout",
     "output_type": "stream",
     "text": [
      "frozenset({'coronavirus', 'COVID19'}) 58\n",
      "frozenset({'opencalifornianow', 'RecallGavinNewsom'}) 38\n",
      "frozenset({'COVID19', 'StayHomeSaveLives'}) 31\n",
      "frozenset({'opencalifornianow', 'OpenCalifornia'}) 31\n",
      "frozenset({'RecallGavinNewsom', 'OpenCalifornia'}) 30\n",
      "frozenset({'COVID', 'COVID-19'}) 26\n",
      "frozenset({'RepealAB5', 'AB5'}) 24\n",
      "frozenset({'COVID', 'Coronavirus'}) 23\n",
      "frozenset({'Coronavirus', 'COVID-19'}) 23\n",
      "frozenset({'SARS_COV_2', 'SARSCoV2'}) 23\n"
     ]
    }
   ],
   "source": [
    "for hashtag_pair, count in sorted(freq_hashtag_pairs.items(), key=lambda x: x[1], reverse=True)[:10]:\n",
    "    print(hashtag_pair, count)"
   ]
  },
  {
   "cell_type": "markdown",
   "metadata": {},
   "source": [
    "## Part 4 - Association Rules (30 pts)\n",
    "\n",
    "Using your results from Part 1 and Part 3, find the association rules with high confidence.\n",
    "\n",
    "1. For each frequent pair, derive the **two** association rules from that pair and compute the **confidence** of each rule\n",
    "2. Filter the association rules based on a confidence threshold of your choosing\n",
    "3. Print each association rule and its confidence value"
   ]
  },
  {
   "cell_type": "code",
   "execution_count": 13,
   "metadata": {},
   "outputs": [],
   "source": [
    "def association_rules(item_counts, pair_counts, min_confidence):\n",
    "    \n",
    "    # Helper function to do confidence computation\n",
    "    def confidence(pair_support, item_support):\n",
    "        return pair_support / item_support\n",
    "    \n",
    "    # Step 1: Generate rules and compute confidence value for each rule\n",
    "    # For each set {a, b}, there are two association rules\n",
    "    # 1. If {a}, then {b}\n",
    "    # 2. If {b}, then {a}\n",
    "    assoc_rules = {}\n",
    "    for pair, pair_support in pair_counts.items():\n",
    "        item_a, item_b = pair\n",
    "        assoc_rules[f'{item_a} --> {item_b}'] = confidence(pair_support, item_counts[item_a])\n",
    "        assoc_rules[f'{item_b} --> {item_a}'] = confidence(pair_support, item_counts[item_b])\n",
    "\n",
    "    # Step 2: Keep only rules that occur at or above our confidence threshold\n",
    "    return {\n",
    "        rule: conf\n",
    "        for rule, conf in assoc_rules.items()\n",
    "        if conf >= min_confidence\n",
    "    }"
   ]
  },
  {
   "cell_type": "code",
   "execution_count": 14,
   "metadata": {},
   "outputs": [],
   "source": [
    "confidence = 0.75\n",
    "hashtag_rules = association_rules(freq_hashtags, freq_hashtag_pairs, confidence)"
   ]
  },
  {
   "cell_type": "code",
   "execution_count": 15,
   "metadata": {},
   "outputs": [
    {
     "name": "stdout",
     "output_type": "stream",
     "text": [
      "fear --> COVID19: 77.78%\n",
      "peace --> COVID19: 77.78%\n",
      "HomeOwners --> BridgeTheBigGap: 77.78%\n",
      "Fakedemic --> Plandemic: 78.95%\n",
      "SARSCoV2 --> COVID19: 80.77%\n",
      "Evictions --> Evicitons: 81.82%\n",
      "Evictions --> HomeOwners: 81.82%\n",
      "reopenparks --> reopenchildcare: 83.33%\n",
      "Forclosures --> Evicitons: 83.33%\n",
      "Forclosures --> Foreclosures: 83.33%\n",
      "Forclosures --> NoRedTagBoxes2CheckMoratoriums: 83.33%\n",
      "Forclosures --> HomeOwners: 83.33%\n",
      "TakeResponsibility --> COVID19: 85.71%\n",
      "Pelosi --> Newsom: 85.71%\n",
      "stoplettingthemlietoyou --> AmericaFirst: 85.71%\n",
      "ohthehypocrisy --> AmericaFirst: 85.71%\n",
      "TakeResponsibility --> fear: 85.71%\n",
      "TakeResponsibility --> peace: 85.71%\n",
      "SARS_COV_2 --> COVID19: 86.96%\n",
      "SuspendAuditsNowEDD --> SuspendAB5: 87.50%\n",
      "CORONAVIRUSPANDEMIC --> SuspendAB5: 87.50%\n",
      "SARSCoV2 --> SARS_COV_2: 88.46%\n",
      "Foreclosures --> Evicitons: 90.00%\n",
      "Evicitons --> Foreclosures: 90.00%\n",
      "NoRedTagBoxes2CheckMoratoriums --> Evicitons: 90.00%\n",
      "Evicitons --> NoRedTagBoxes2CheckMoratoriums: 90.00%\n",
      "Evicitons --> Evictions: 90.00%\n",
      "Evicitons --> HomeOwners: 90.00%\n",
      "Foreclosures --> HomeOwners: 90.00%\n",
      "NoRedTagBoxes2CheckMoratoriums --> HomeOwners: 90.00%\n",
      "Evictions --> Foreclosures: 90.91%\n",
      "Evictions --> NoRedTagBoxes2CheckMoratoriums: 90.91%\n",
      "disinfectant --> COVID: 95.65%\n",
      "disinfectant --> COVID-19: 95.65%\n",
      "disinfectant --> Coronavirus: 95.65%\n",
      "disinfectant --> bleach: 95.65%\n",
      "disinfectant --> hypochlorite: 95.65%\n",
      "OpenUpAmericaNow --> RecallGavinNewsom: 100.00%\n",
      "bleach --> COVID: 100.00%\n",
      "hypochlorite --> COVID: 100.00%\n",
      "reopenchildcare --> reopenparks: 100.00%\n",
      "partisanBS --> covid2019: 100.00%\n",
      "covid2019 --> partisanBS: 100.00%\n",
      "UnmaskAmerica --> ReopenAmerica: 100.00%\n",
      "bleach --> COVID-19: 100.00%\n",
      "hypochlorite --> COVID-19: 100.00%\n",
      "SARS_COV_2 --> SARSCoV2: 100.00%\n",
      "sciencematters --> OpenCalifornia: 100.00%\n",
      "SuspendAuditsNowEDD --> AB5: 100.00%\n",
      "CORONAVIRUSPANDEMIC --> SuspendAuditsNowEDD: 100.00%\n",
      "SuspendAuditsNowEDD --> CORONAVIRUSPANDEMIC: 100.00%\n",
      "CORONAVIRUSPANDEMIC --> AB5: 100.00%\n",
      "freelancers --> AB5: 100.00%\n",
      "bleach --> Coronavirus: 100.00%\n",
      "hypochlorite --> Coronavirus: 100.00%\n",
      "EndTheLockdown --> MayDay: 100.00%\n",
      "MayDay --> EndTheLockdown: 100.00%\n",
      "fear --> peace: 100.00%\n",
      "peace --> fear: 100.00%\n",
      "hypochlorite --> bleach: 100.00%\n",
      "bleach --> hypochlorite: 100.00%\n",
      "bleach --> disinfectant: 100.00%\n",
      "hypochlorite --> disinfectant: 100.00%\n",
      "NewDailyDoubleDigitCOVID19Fatalities --> Phase3ReOpenings: 100.00%\n",
      "Phase3ReOpenings --> NewDailyDoubleDigitCOVID19Fatalities: 100.00%\n",
      "NewDailyDoubleDigitCOVID19Fatalities --> Backlogged: 100.00%\n",
      "Backlogged --> NewDailyDoubleDigitCOVID19Fatalities: 100.00%\n",
      "NewDailyDoubleDigitCOVID19Fatalities --> COVID19NumbersReportedIntentionallyHeldBack: 100.00%\n",
      "COVID19NumbersReportedIntentionallyHeldBack --> NewDailyDoubleDigitCOVID19Fatalities: 100.00%\n",
      "NewDailyDoubleDigitCOVID19Fatalities --> RiotPresentEnoughCOVID19Risks: 100.00%\n",
      "RiotPresentEnoughCOVID19Risks --> NewDailyDoubleDigitCOVID19Fatalities: 100.00%\n",
      "Backlogged --> Phase3ReOpenings: 100.00%\n",
      "Phase3ReOpenings --> Backlogged: 100.00%\n",
      "Phase3ReOpenings --> COVID19NumbersReportedIntentionallyHeldBack: 100.00%\n",
      "COVID19NumbersReportedIntentionallyHeldBack --> Phase3ReOpenings: 100.00%\n",
      "Phase3ReOpenings --> RiotPresentEnoughCOVID19Risks: 100.00%\n",
      "RiotPresentEnoughCOVID19Risks --> Phase3ReOpenings: 100.00%\n",
      "Backlogged --> COVID19NumbersReportedIntentionallyHeldBack: 100.00%\n",
      "COVID19NumbersReportedIntentionallyHeldBack --> Backlogged: 100.00%\n",
      "Backlogged --> RiotPresentEnoughCOVID19Risks: 100.00%\n",
      "RiotPresentEnoughCOVID19Risks --> Backlogged: 100.00%\n",
      "COVID19NumbersReportedIntentionallyHeldBack --> RiotPresentEnoughCOVID19Risks: 100.00%\n",
      "RiotPresentEnoughCOVID19Risks --> COVID19NumbersReportedIntentionallyHeldBack: 100.00%\n",
      "medicine --> health: 100.00%\n",
      "sex --> health: 100.00%\n",
      "fitness --> health: 100.00%\n",
      "MyBreathingPractice --> Exhale: 100.00%\n",
      "Exhale --> MyBreathingPractice: 100.00%\n",
      "stoplettingthemlietoyou --> ohthehypocrisy: 100.00%\n",
      "ohthehypocrisy --> stoplettingthemlietoyou: 100.00%\n",
      "WAKEUPCALIFORNIA --> stoplettingthemlietoyou: 100.00%\n",
      "WAKEUPCALIFORNIA --> ohthehypocrisy: 100.00%\n",
      "medicine --> sex: 100.00%\n",
      "sex --> medicine: 100.00%\n",
      "medicine --> fitness: 100.00%\n",
      "fitness --> medicine: 100.00%\n",
      "fitness --> sex: 100.00%\n",
      "sex --> fitness: 100.00%\n",
      "NonJudicialForclosures --> Evicitons: 100.00%\n",
      "BridgeTheBigGap --> Evicitons: 100.00%\n",
      "HomeOwners --> Evicitons: 100.00%\n",
      "BridgeTheBigGap --> Foreclosures: 100.00%\n",
      "NoRedTagBoxes2CheckMoratoriums --> Foreclosures: 100.00%\n",
      "Foreclosures --> NoRedTagBoxes2CheckMoratoriums: 100.00%\n",
      "Foreclosures --> Evictions: 100.00%\n",
      "HomeOwners --> Foreclosures: 100.00%\n",
      "BridgeTheBigGap --> NoRedTagBoxes2CheckMoratoriums: 100.00%\n",
      "BridgeTheBigGap --> Evictions: 100.00%\n",
      "BridgeTheBigGap --> HomeOwners: 100.00%\n",
      "NoRedTagBoxes2CheckMoratoriums --> Evictions: 100.00%\n",
      "HomeOwners --> NoRedTagBoxes2CheckMoratoriums: 100.00%\n",
      "HomeOwners --> Evictions: 100.00%\n",
      "Forclosures --> Evictions: 100.00%\n"
     ]
    }
   ],
   "source": [
    "for rule, conf in sorted(hashtag_rules.items(), key=lambda x: x[1]):\n",
    "    print(f'{rule}: {conf * 100:.2f}%')"
   ]
  },
  {
   "cell_type": "markdown",
   "metadata": {},
   "source": [
    "## Bonus (5 pts)\n",
    "\n",
    "Repeat the above experiments after applying some text preprocessing to the data\n",
    "1. Convert all text to lowercase\n",
    "2. Remove all punctuation"
   ]
  },
  {
   "cell_type": "code",
   "execution_count": 16,
   "metadata": {},
   "outputs": [],
   "source": [
    "import string\n",
    "\n",
    "def clean(text):\n",
    "    text = text.lower()\n",
    "    return text.translate(str.maketrans('', '', string.punctuation))"
   ]
  },
  {
   "cell_type": "code",
   "execution_count": 17,
   "metadata": {},
   "outputs": [],
   "source": [
    "clean_baskets = [\n",
    "    set(clean(hashtag) for hashtag in basket)\n",
    "    for basket in hashtag_baskets\n",
    "]"
   ]
  },
  {
   "cell_type": "code",
   "execution_count": 18,
   "metadata": {},
   "outputs": [],
   "source": [
    "freq_hashtags = count_freq_items(clean_baskets, support)"
   ]
  },
  {
   "cell_type": "code",
   "execution_count": 19,
   "metadata": {},
   "outputs": [],
   "source": [
    "freq_hashtag_pairs = count_item_pairs(clean_baskets, generate_candidate_pairs(freq_hashtags), support)"
   ]
  },
  {
   "cell_type": "code",
   "execution_count": 20,
   "metadata": {},
   "outputs": [],
   "source": [
    "hashtag_rules = association_rules(freq_hashtags, freq_hashtag_pairs, confidence)"
   ]
  },
  {
   "cell_type": "code",
   "execution_count": 21,
   "metadata": {},
   "outputs": [
    {
     "name": "stdout",
     "output_type": "stream",
     "text": [
      "ab5stories --> ab5: 75.00%\n",
      "evictions --> evicitons: 75.00%\n",
      "evictions --> homeowners: 75.00%\n",
      "fear --> covid19: 77.78%\n",
      "peace --> covid19: 77.78%\n",
      "fullyopenca --> recallgavinnewsom: 83.33%\n",
      "reopenparks --> reopenchildcare: 83.33%\n",
      "rentzero --> cancelrent: 83.33%\n",
      "forclosures --> evicitons: 83.33%\n",
      "evictions --> foreclosures: 83.33%\n",
      "forclosures --> foreclosures: 83.33%\n",
      "forclosures --> homeowners: 83.33%\n",
      "evictions --> noredtagboxes2checkmoratoriums: 83.33%\n",
      "forclosures --> noredtagboxes2checkmoratoriums: 83.33%\n",
      "takeresponsibility --> covid19: 85.71%\n",
      "pelosi --> newsom: 85.71%\n",
      "stoplettingthemlietoyou --> americafirst: 85.71%\n",
      "ohthehypocrisy --> americafirst: 85.71%\n",
      "antibodytestnow --> antibodytest: 85.71%\n",
      "takeresponsibility --> fear: 85.71%\n",
      "takeresponsibility --> peace: 85.71%\n",
      "mayday --> endthelockdown: 87.50%\n",
      "suspendauditsnowedd --> suspendab5: 87.50%\n",
      "sarscov2 --> covid19: 88.46%\n",
      "openupamericanow --> recallgavinnewsom: 88.89%\n",
      "foreclosures --> evicitons: 90.00%\n",
      "evicitons --> foreclosures: 90.00%\n",
      "homeowners --> evicitons: 90.00%\n",
      "evicitons --> homeowners: 90.00%\n",
      "evicitons --> evictions: 90.00%\n",
      "noredtagboxes2checkmoratoriums --> evicitons: 90.00%\n",
      "evicitons --> noredtagboxes2checkmoratoriums: 90.00%\n",
      "foreclosures --> homeowners: 90.00%\n",
      "homeowners --> foreclosures: 90.00%\n",
      "homeowners --> evictions: 90.00%\n",
      "homeowners --> noredtagboxes2checkmoratoriums: 90.00%\n",
      "noredtagboxes2checkmoratoriums --> homeowners: 90.00%\n",
      "disinfectant --> covid19: 95.65%\n",
      "disinfectant --> covid: 95.65%\n",
      "disinfectant --> bleach: 95.65%\n",
      "disinfectant --> hypochlorite: 95.65%\n",
      "bleach --> covid19: 100.00%\n",
      "hypochlorite --> covid19: 100.00%\n",
      "recallgarcetti --> recallgavinnewsom: 100.00%\n",
      "bleach --> coronavirus: 100.00%\n",
      "hypochlorite --> coronavirus: 100.00%\n",
      "disinfectant --> coronavirus: 100.00%\n",
      "bleach --> covid: 100.00%\n",
      "hypochlorite --> covid: 100.00%\n",
      "reopenchildcare --> reopenparks: 100.00%\n",
      "partisanbs --> covid2019: 100.00%\n",
      "unmaskamerica --> reopenamerica: 100.00%\n",
      "suspendauditsnowedd --> coronaviruspandemic: 100.00%\n",
      "suspendauditsnowedd --> ab5: 100.00%\n",
      "freelancers --> ab5: 100.00%\n",
      "cancelmortgages --> cancelrent: 100.00%\n",
      "fear --> peace: 100.00%\n",
      "peace --> fear: 100.00%\n",
      "hypochlorite --> bleach: 100.00%\n",
      "bleach --> hypochlorite: 100.00%\n",
      "bleach --> disinfectant: 100.00%\n",
      "hypochlorite --> disinfectant: 100.00%\n",
      "covid19numbersreportedintentionallyheldback --> phase3reopenings: 100.00%\n",
      "phase3reopenings --> covid19numbersreportedintentionallyheldback: 100.00%\n",
      "covid19numbersreportedintentionallyheldback --> riotpresentenoughcovid19risks: 100.00%\n",
      "riotpresentenoughcovid19risks --> covid19numbersreportedintentionallyheldback: 100.00%\n",
      "covid19numbersreportedintentionallyheldback --> newdailydoubledigitcovid19fatalities: 100.00%\n",
      "newdailydoubledigitcovid19fatalities --> covid19numbersreportedintentionallyheldback: 100.00%\n",
      "covid19numbersreportedintentionallyheldback --> backlogged: 100.00%\n",
      "backlogged --> covid19numbersreportedintentionallyheldback: 100.00%\n",
      "phase3reopenings --> riotpresentenoughcovid19risks: 100.00%\n",
      "riotpresentenoughcovid19risks --> phase3reopenings: 100.00%\n",
      "newdailydoubledigitcovid19fatalities --> phase3reopenings: 100.00%\n",
      "phase3reopenings --> newdailydoubledigitcovid19fatalities: 100.00%\n",
      "backlogged --> phase3reopenings: 100.00%\n",
      "phase3reopenings --> backlogged: 100.00%\n",
      "newdailydoubledigitcovid19fatalities --> riotpresentenoughcovid19risks: 100.00%\n",
      "riotpresentenoughcovid19risks --> newdailydoubledigitcovid19fatalities: 100.00%\n",
      "backlogged --> riotpresentenoughcovid19risks: 100.00%\n",
      "riotpresentenoughcovid19risks --> backlogged: 100.00%\n",
      "newdailydoubledigitcovid19fatalities --> backlogged: 100.00%\n",
      "backlogged --> newdailydoubledigitcovid19fatalities: 100.00%\n",
      "medicine --> health: 100.00%\n",
      "sex --> health: 100.00%\n",
      "fitness --> health: 100.00%\n",
      "exhale --> inhale: 100.00%\n",
      "inhale --> exhale: 100.00%\n",
      "exhale --> mybreathingpractice: 100.00%\n",
      "mybreathingpractice --> exhale: 100.00%\n",
      "mybreathingpractice --> inhale: 100.00%\n",
      "inhale --> mybreathingpractice: 100.00%\n",
      "stoplettingthemlietoyou --> ohthehypocrisy: 100.00%\n",
      "ohthehypocrisy --> stoplettingthemlietoyou: 100.00%\n",
      "medicine --> sex: 100.00%\n",
      "sex --> medicine: 100.00%\n",
      "medicine --> fitness: 100.00%\n",
      "fitness --> medicine: 100.00%\n",
      "fitness --> sex: 100.00%\n",
      "sex --> fitness: 100.00%\n",
      "nonjudicialforclosures --> evicitons: 100.00%\n",
      "bridgethebiggap --> evicitons: 100.00%\n",
      "bridgethebiggap --> foreclosures: 100.00%\n",
      "bridgethebiggap --> homeowners: 100.00%\n",
      "bridgethebiggap --> evictions: 100.00%\n",
      "bridgethebiggap --> noredtagboxes2checkmoratoriums: 100.00%\n",
      "foreclosures --> evictions: 100.00%\n",
      "foreclosures --> noredtagboxes2checkmoratoriums: 100.00%\n",
      "noredtagboxes2checkmoratoriums --> foreclosures: 100.00%\n",
      "noredtagboxes2checkmoratoriums --> evictions: 100.00%\n",
      "forclosures --> evictions: 100.00%\n"
     ]
    }
   ],
   "source": [
    "for rule, conf in sorted(hashtag_rules.items(), key=lambda x: x[1]):\n",
    "    print(f'{rule}: {conf * 100:.2f}%')"
   ]
  },
  {
   "cell_type": "code",
   "execution_count": null,
   "metadata": {},
   "outputs": [],
   "source": []
  }
 ],
 "metadata": {
  "kernelspec": {
   "display_name": "Python 3 (ipykernel)",
   "language": "python",
   "name": "python3"
  },
  "language_info": {
   "codemirror_mode": {
    "name": "ipython",
    "version": 3
   },
   "file_extension": ".py",
   "mimetype": "text/x-python",
   "name": "python",
   "nbconvert_exporter": "python",
   "pygments_lexer": "ipython3",
   "version": "3.9.6"
  }
 },
 "nbformat": 4,
 "nbformat_minor": 1
}